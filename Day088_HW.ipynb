{
 "cells": [
  {
   "cell_type": "markdown",
   "metadata": {},
   "source": [
    "## Work\n",
    "1. 請嘗試寫一個 callback 用來記錄各類別在訓練過程中，對驗證集的 True Positive 與 True Negative"
   ]
  },
  {
   "cell_type": "code",
   "execution_count": 1,
   "metadata": {},
   "outputs": [
    {
     "name": "stderr",
     "output_type": "stream",
     "text": [
      "Using TensorFlow backend.\n"
     ]
    }
   ],
   "source": [
    "import os\n",
    "import keras\n",
    "\n",
    "# Disable GPU\n",
    "os.environ[\"CUDA_VISIBLE_DEVICES\"] = \"0\""
   ]
  },
  {
   "cell_type": "code",
   "execution_count": 2,
   "metadata": {},
   "outputs": [],
   "source": [
    "train, test = keras.datasets.cifar10.load_data()"
   ]
  },
  {
   "cell_type": "code",
   "execution_count": 3,
   "metadata": {},
   "outputs": [],
   "source": [
    "## 資料前處理\n",
    "def preproc_x(x, flatten=True):\n",
    "    x = x / 255.\n",
    "    if flatten:\n",
    "        x = x.reshape((len(x), -1))\n",
    "    return x\n",
    "\n",
    "def preproc_y(y, num_classes=10):\n",
    "    if y.shape[-1] == 1:\n",
    "        y = keras.utils.to_categorical(y, num_classes)\n",
    "    return y    "
   ]
  },
  {
   "cell_type": "code",
   "execution_count": 4,
   "metadata": {},
   "outputs": [],
   "source": [
    "x_train, y_train = train\n",
    "x_test, y_test = test\n",
    "\n",
    "# Preproc the inputs\n",
    "x_train = preproc_x(x_train)\n",
    "x_test = preproc_x(x_test)\n",
    "\n",
    "# Preprc the outputs\n",
    "y_train = preproc_y(y_train)\n",
    "y_test = preproc_y(y_test)"
   ]
  },
  {
   "cell_type": "code",
   "execution_count": 5,
   "metadata": {},
   "outputs": [],
   "source": [
    "from keras.layers import BatchNormalization\n",
    "def build_mlp(input_shape, output_units=10, num_neurons=[256, 256, 256]):\n",
    "    \"\"\"Code Here\n",
    "    建立你的神經網路\n",
    "    \"\"\"\n",
    "    return model\n",
    "\n",
    "\n",
    "from keras.layers import BatchNormalization\n",
    "\n",
    "\"\"\"\n",
    "建立神經網路，並加入 BN layer\n",
    "\"\"\"\n",
    "def build_mlp(input_shape, output_units=10, num_neurons=[512, 256, 128]):\n",
    "    input_layer = keras.layers.Input(input_shape)\n",
    "    \n",
    "    for i, n_units in enumerate(num_neurons):\n",
    "        if i == 0:\n",
    "            x = keras.layers.Dense(units=n_units, \n",
    "                                   activation=\"relu\", \n",
    "                                   name=\"hidden_layer\"+str(i+1))(input_layer)\n",
    "            x = BatchNormalization()(x)\n",
    "        else:\n",
    "            x = keras.layers.Dense(units=n_units, \n",
    "                                   activation=\"relu\", \n",
    "                                   name=\"hidden_layer\"+str(i+1))(x)\n",
    "            x = BatchNormalization()(x)\n",
    "    \n",
    "    out = keras.layers.Dense(units=output_units, activation=\"softmax\", name=\"output\")(x)\n",
    "    \n",
    "    model = keras.models.Model(inputs=[input_layer], outputs=[out])\n",
    "    return model"
   ]
  },
  {
   "cell_type": "code",
   "execution_count": 6,
   "metadata": {},
   "outputs": [],
   "source": [
    "## 超參數設定\n",
    "LEARNING_RATE = 1e-3\n",
    "EPOCHS = 25\n",
    "BATCH_SIZE = 1024\n",
    "MOMENTUM = 0.95"
   ]
  },
  {
   "cell_type": "code",
   "execution_count": 18,
   "metadata": {},
   "outputs": [],
   "source": [
    "# 載入 Callbacks\n",
    "from keras.callbacks import Callback\n",
    "\n",
    "# Record_fp_tp\n",
    "class Record_tp_tn(Callback):\n",
    "    \"\"\"Code Here\n",
    "    撰寫一個紀錄 ture positive 與 true negative 數量的 callbacks    \n",
    "    \"\"\"\n",
    "    def on_train_begin(self, epoch, logs = {}):\n",
    "        logs = logs or {}\n",
    "        record_items = [\"val_auc\", \"val_f1sc\", \"val_fp\", \"val_fn\", \"val_tp\", \"val_tn\"]\n",
    "        for i in record_items:\n",
    "            if i not in self.params['metrics']:\n",
    "                self.params['metrics'].append(i)\n",
    "                \n",
    "    \n",
    "    def on_epoch_end(self, epoch, logs = {}, thres=0.5):\n",
    "        logs = logs or {}\n",
    "        y_true = self.validation_data[1].argmax(axis = 1)\n",
    "        y_pred = self.model.predict(self.validation_data[0])\n",
    "        print(\"y_true\",type(y_true), y_true,y_true.shape)\n",
    "        print(\"oy_pred\", y_pred.shape)\n",
    "        cy_pred = y_pred.argmax(axis = 1)\n",
    "        y_pred = (y_pred[:, 1] >= thres) * 1\n",
    "        print(\"yshaop\" , y_true.shape[0])\n",
    "        tn = 0\n",
    "        tp = 0\n",
    "        for i in range(y_true.shape[0]):\n",
    "            #print(\"check i \", i)\n",
    "\n",
    "            #print( i, cy_pred[i] ,y_pred[i], y_true[i])\n",
    "            if y_true[i] == 1 and cy_pred[i] == 1 and y_pred[i] >=1 :\n",
    "                tp+=1\n",
    "                \n",
    "            if y_true[i] != 1 and cy_pred[i] != 1  and y_pred[i] == 0:\n",
    "                tn+=1\n",
    "                \n",
    "\n",
    "        #for i in range()\n",
    "        logs[\"tn\"] = tn\n",
    "        logs[\"tp\"] = tp\n",
    "        \n",
    "rec_tptn = Record_tp_tn()"
   ]
  },
  {
   "cell_type": "code",
   "execution_count": 19,
   "metadata": {
    "scrolled": true
   },
   "outputs": [
    {
     "name": "stdout",
     "output_type": "stream",
     "text": [
      "_________________________________________________________________\n",
      "Layer (type)                 Output Shape              Param #   \n",
      "=================================================================\n",
      "input_6 (InputLayer)         (None, 3072)              0         \n",
      "_________________________________________________________________\n",
      "hidden_layer1 (Dense)        (None, 512)               1573376   \n",
      "_________________________________________________________________\n",
      "batch_normalization_16 (Batc (None, 512)               2048      \n",
      "_________________________________________________________________\n",
      "hidden_layer2 (Dense)        (None, 256)               131328    \n",
      "_________________________________________________________________\n",
      "batch_normalization_17 (Batc (None, 256)               1024      \n",
      "_________________________________________________________________\n",
      "hidden_layer3 (Dense)        (None, 128)               32896     \n",
      "_________________________________________________________________\n",
      "batch_normalization_18 (Batc (None, 128)               512       \n",
      "_________________________________________________________________\n",
      "output (Dense)               (None, 10)                1290      \n",
      "=================================================================\n",
      "Total params: 1,742,474\n",
      "Trainable params: 1,740,682\n",
      "Non-trainable params: 1,792\n",
      "_________________________________________________________________\n",
      "Train on 50000 samples, validate on 10000 samples\n",
      "Epoch 1/25\n",
      "50000/50000 [==============================] - 2s 34us/step - loss: 2.1982 - acc: 0.2734 - val_loss: 2.0767 - val_acc: 0.3302\n",
      "y_true <class 'numpy.ndarray'> [3 8 8 ... 5 1 7] (10000,)\n",
      "oy_pred (10000, 10)\n",
      "yshaop 10000\n",
      "Epoch 2/25\n",
      "50000/50000 [==============================] - 1s 18us/step - loss: 1.7507 - acc: 0.3914 - val_loss: 1.8098 - val_acc: 0.3854\n",
      "y_true <class 'numpy.ndarray'> [3 8 8 ... 5 1 7] (10000,)\n",
      "oy_pred (10000, 10)\n",
      "yshaop 10000\n",
      "Epoch 3/25\n",
      "50000/50000 [==============================] - 1s 18us/step - loss: 1.6255 - acc: 0.4318 - val_loss: 1.7019 - val_acc: 0.4069\n",
      "y_true <class 'numpy.ndarray'> [3 8 8 ... 5 1 7] (10000,)\n",
      "oy_pred (10000, 10)\n",
      "yshaop 10000\n",
      "Epoch 4/25\n",
      "50000/50000 [==============================] - 1s 18us/step - loss: 1.5482 - acc: 0.4596 - val_loss: 1.6538 - val_acc: 0.4236\n",
      "y_true <class 'numpy.ndarray'> [3 8 8 ... 5 1 7] (10000,)\n",
      "oy_pred (10000, 10)\n",
      "yshaop 10000\n",
      "Epoch 5/25\n",
      "50000/50000 [==============================] - 1s 19us/step - loss: 1.4924 - acc: 0.4804 - val_loss: 1.6069 - val_acc: 0.4368\n",
      "y_true <class 'numpy.ndarray'> [3 8 8 ... 5 1 7] (10000,)\n",
      "oy_pred (10000, 10)\n",
      "yshaop 10000\n",
      "Epoch 6/25\n",
      "50000/50000 [==============================] - 1s 18us/step - loss: 1.4456 - acc: 0.4984 - val_loss: 1.5817 - val_acc: 0.4439\n",
      "y_true <class 'numpy.ndarray'> [3 8 8 ... 5 1 7] (10000,)\n",
      "oy_pred (10000, 10)\n",
      "yshaop 10000\n",
      "Epoch 7/25\n",
      "50000/50000 [==============================] - 1s 18us/step - loss: 1.4042 - acc: 0.5110 - val_loss: 1.5594 - val_acc: 0.4513\n",
      "y_true <class 'numpy.ndarray'> [3 8 8 ... 5 1 7] (10000,)\n",
      "oy_pred (10000, 10)\n",
      "yshaop 10000\n",
      "Epoch 8/25\n",
      "50000/50000 [==============================] - 1s 18us/step - loss: 1.3682 - acc: 0.5252 - val_loss: 1.5418 - val_acc: 0.4595\n",
      "y_true <class 'numpy.ndarray'> [3 8 8 ... 5 1 7] (10000,)\n",
      "oy_pred (10000, 10)\n",
      "yshaop 10000\n",
      "Epoch 9/25\n",
      "50000/50000 [==============================] - 1s 18us/step - loss: 1.3375 - acc: 0.5359 - val_loss: 1.5180 - val_acc: 0.4657\n",
      "y_true <class 'numpy.ndarray'> [3 8 8 ... 5 1 7] (10000,)\n",
      "oy_pred (10000, 10)\n",
      "yshaop 10000\n",
      "Epoch 10/25\n",
      "50000/50000 [==============================] - 1s 18us/step - loss: 1.3061 - acc: 0.5477 - val_loss: 1.5070 - val_acc: 0.4727\n",
      "y_true <class 'numpy.ndarray'> [3 8 8 ... 5 1 7] (10000,)\n",
      "oy_pred (10000, 10)\n",
      "yshaop 10000\n",
      "Epoch 11/25\n",
      "50000/50000 [==============================] - 1s 18us/step - loss: 1.2775 - acc: 0.5585 - val_loss: 1.4912 - val_acc: 0.4801\n",
      "y_true <class 'numpy.ndarray'> [3 8 8 ... 5 1 7] (10000,)\n",
      "oy_pred (10000, 10)\n",
      "yshaop 10000\n",
      "Epoch 12/25\n",
      "50000/50000 [==============================] - 1s 18us/step - loss: 1.2508 - acc: 0.5686 - val_loss: 1.4901 - val_acc: 0.4788\n",
      "y_true <class 'numpy.ndarray'> [3 8 8 ... 5 1 7] (10000,)\n",
      "oy_pred (10000, 10)\n",
      "yshaop 10000\n",
      "Epoch 13/25\n",
      "50000/50000 [==============================] - 1s 17us/step - loss: 1.2251 - acc: 0.5774 - val_loss: 1.4786 - val_acc: 0.4806\n",
      "y_true <class 'numpy.ndarray'> [3 8 8 ... 5 1 7] (10000,)\n",
      "oy_pred (10000, 10)\n",
      "yshaop 10000\n",
      "Epoch 14/25\n",
      "50000/50000 [==============================] - 1s 17us/step - loss: 1.2007 - acc: 0.5868 - val_loss: 1.4741 - val_acc: 0.4799\n",
      "y_true <class 'numpy.ndarray'> [3 8 8 ... 5 1 7] (10000,)\n",
      "oy_pred (10000, 10)\n",
      "yshaop 10000\n",
      "Epoch 15/25\n",
      "50000/50000 [==============================] - 1s 17us/step - loss: 1.1755 - acc: 0.5980 - val_loss: 1.4727 - val_acc: 0.4858\n",
      "y_true <class 'numpy.ndarray'> [3 8 8 ... 5 1 7] (10000,)\n",
      "oy_pred (10000, 10)\n",
      "yshaop 10000\n",
      "Epoch 16/25\n",
      "50000/50000 [==============================] - 1s 18us/step - loss: 1.1531 - acc: 0.6059 - val_loss: 1.4695 - val_acc: 0.4833\n",
      "y_true <class 'numpy.ndarray'> [3 8 8 ... 5 1 7] (10000,)\n",
      "oy_pred (10000, 10)\n",
      "yshaop 10000\n",
      "Epoch 17/25\n",
      "50000/50000 [==============================] - 1s 18us/step - loss: 1.1285 - acc: 0.6147 - val_loss: 1.4820 - val_acc: 0.4835\n",
      "y_true <class 'numpy.ndarray'> [3 8 8 ... 5 1 7] (10000,)\n",
      "oy_pred (10000, 10)\n",
      "yshaop 10000\n",
      "Epoch 18/25\n",
      "50000/50000 [==============================] - 1s 18us/step - loss: 1.1078 - acc: 0.6239 - val_loss: 1.4639 - val_acc: 0.4854\n",
      "y_true <class 'numpy.ndarray'> [3 8 8 ... 5 1 7] (10000,)\n",
      "oy_pred (10000, 10)\n",
      "yshaop 10000\n",
      "Epoch 19/25\n",
      "50000/50000 [==============================] - 1s 18us/step - loss: 1.0876 - acc: 0.6307 - val_loss: 1.4772 - val_acc: 0.4835\n",
      "y_true <class 'numpy.ndarray'> [3 8 8 ... 5 1 7] (10000,)\n",
      "oy_pred (10000, 10)\n",
      "yshaop 10000\n",
      "Epoch 20/25\n",
      "50000/50000 [==============================] - 1s 18us/step - loss: 1.0641 - acc: 0.6377 - val_loss: 1.4698 - val_acc: 0.4895\n",
      "y_true <class 'numpy.ndarray'> [3 8 8 ... 5 1 7] (10000,)\n",
      "oy_pred (10000, 10)\n",
      "yshaop 10000\n",
      "Epoch 21/25\n",
      "50000/50000 [==============================] - 1s 17us/step - loss: 1.0424 - acc: 0.6488 - val_loss: 1.4708 - val_acc: 0.4858\n",
      "y_true <class 'numpy.ndarray'> [3 8 8 ... 5 1 7] (10000,)\n",
      "oy_pred (10000, 10)\n",
      "yshaop 10000\n",
      "Epoch 22/25\n",
      "50000/50000 [==============================] - 1s 17us/step - loss: 1.0214 - acc: 0.6542 - val_loss: 1.4643 - val_acc: 0.4840\n",
      "y_true <class 'numpy.ndarray'> [3 8 8 ... 5 1 7] (10000,)\n",
      "oy_pred (10000, 10)\n",
      "yshaop 10000\n",
      "Epoch 23/25\n",
      "50000/50000 [==============================] - 1s 17us/step - loss: 1.0015 - acc: 0.6636 - val_loss: 1.4637 - val_acc: 0.4892\n",
      "y_true <class 'numpy.ndarray'> [3 8 8 ... 5 1 7] (10000,)\n",
      "oy_pred (10000, 10)\n",
      "yshaop 10000\n",
      "Epoch 24/25\n",
      "50000/50000 [==============================] - 1s 17us/step - loss: 0.9796 - acc: 0.6695 - val_loss: 1.4689 - val_acc: 0.4900\n",
      "y_true <class 'numpy.ndarray'> [3 8 8 ... 5 1 7] (10000,)\n",
      "oy_pred (10000, 10)\n",
      "yshaop 10000\n",
      "Epoch 25/25\n",
      "50000/50000 [==============================] - 1s 18us/step - loss: 0.9601 - acc: 0.6790 - val_loss: 1.4698 - val_acc: 0.4890\n",
      "y_true <class 'numpy.ndarray'> [3 8 8 ... 5 1 7] (10000,)\n",
      "oy_pred (10000, 10)\n",
      "yshaop 10000\n"
     ]
    }
   ],
   "source": [
    "model = build_mlp(input_shape=x_train.shape[1:])\n",
    "model.summary()\n",
    "optimizer = keras.optimizers.SGD(lr=LEARNING_RATE, nesterov=True, momentum=MOMENTUM)\n",
    "model.compile(loss=\"categorical_crossentropy\", metrics=[\"accuracy\"], optimizer=optimizer)\n",
    "\n",
    "\"\"\"Code Here\n",
    "將 callbacks 放入模型訓練流程中\n",
    "\"\"\"\n",
    "model.fit(x_train, y_train, \n",
    "          epochs=EPOCHS, \n",
    "          batch_size=BATCH_SIZE, \n",
    "          validation_data=(x_test, y_test), \n",
    "          shuffle=True,\n",
    "          callbacks=[rec_tptn]\n",
    "         )\n",
    "\n",
    "\n",
    "# Collect results\n",
    "train_loss = model.history.history[\"loss\"]\n",
    "valid_loss = model.history.history[\"val_loss\"]\n",
    "train_acc = model.history.history[\"acc\"]\n",
    "valid_acc = model.history.history[\"val_acc\"]\n",
    "\n",
    "\"\"\"Code Here\n",
    "將 tp/tn 從訓練完的模型中取出\n",
    "\"\"\"\n",
    "valid_tp = model.history.history[\"tp\"]\n",
    "valid_tn = model.history.history[\"tn\"]"
   ]
  },
  {
   "cell_type": "code",
   "execution_count": 20,
   "metadata": {},
   "outputs": [
    {
     "data": {
      "image/png": "[encoded data removed]",
      "text/plain": [
       "<Figure size 432x288 with 1 Axes>"
      ]
     },
     "metadata": {
      "needs_background": "light"
     },
     "output_type": "display_data"
    },
    {
     "data": {
      "image/png": "[encoded data removed]",
      "text/plain": [
       "<Figure size 432x288 with 1 Axes>"
      ]
     },
     "metadata": {
      "needs_background": "light"
     },
     "output_type": "display_data"
    },
    {
     "data": {
      "image/png": "[encoded data removed]",
      "text/plain": [
       "<Figure size 432x288 with 1 Axes>"
      ]
     },
     "metadata": {
      "needs_background": "light"
     },
     "output_type": "display_data"
    }
   ],
   "source": [
    "import matplotlib.pyplot as plt\n",
    "%matplotlib inline\n",
    "\n",
    "plt.plot(range(len(train_loss)), train_loss, label=\"train loss\")\n",
    "plt.plot(range(len(valid_loss)), valid_loss, label=\"valid loss\")\n",
    "plt.legend()\n",
    "plt.title(\"Loss\")\n",
    "plt.show()\n",
    "\n",
    "plt.plot(range(len(train_acc)), train_acc, label=\"train accuracy\")\n",
    "plt.plot(range(len(valid_acc)), valid_acc, label=\"valid accuracy\")\n",
    "plt.legend()\n",
    "plt.title(\"Accuracy\")\n",
    "plt.show()\n",
    "\n",
    "plt.plot(range(len(valid_tp)), valid_tp, label=\"valid tp\", color=\"navy\")\n",
    "plt.plot(range(len(valid_tn)), valid_tn, label=\"valid tn\", color=\"red\")\n",
    "plt.legend()\n",
    "plt.title(\"True positives and True Negatives\")\n",
    "plt.show()\n"
   ]
  },
  {
   "cell_type": "code",
   "execution_count": null,
   "metadata": {},
   "outputs": [],
   "source": []
  }
 ],
 "metadata": {
  "kernelspec": {
   "display_name": "Python 3",
   "language": "python",
   "name": "python3"
  },
  "language_info": {
   "codemirror_mode": {
    "name": "ipython",
    "version": 3
   },
   "file_extension": ".py",
   "mimetype": "text/x-python",
   "name": "python",
   "nbconvert_exporter": "python",
   "pygments_lexer": "ipython3",
   "version": "3.7.3"
  }
 },
 "nbformat": 4,
 "nbformat_minor": 2
}
