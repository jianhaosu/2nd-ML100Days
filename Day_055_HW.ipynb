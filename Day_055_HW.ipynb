{
 "cells": [
  {
   "cell_type": "markdown",
   "metadata": {},
   "source": [
    "# 作業\n",
    "\n",
    "- 作業目標 : iris (dataset.load_iris()) 資料嘗試跑 kmeans (可以測試不同的群數 , init 等)"
   ]
  },
  {
   "cell_type": "code",
   "execution_count": 1,
   "metadata": {},
   "outputs": [],
   "source": [
    "from sklearn import datasets\n",
    "\n",
    "iris = datasets.load_iris()\n",
    "X = iris.data\n",
    "y = iris.target"
   ]
  },
  {
   "cell_type": "markdown",
   "metadata": {},
   "source": [
    "### 載入 相關套件 並 執行 kmean 實驗 ...\n",
    "\n",
    "- 實驗測試不同的群數\n",
    "- 實驗測試不同的初始值\n",
    "- 呈現結果"
   ]
  },
  {
   "cell_type": "code",
   "execution_count": 5,
   "metadata": {},
   "outputs": [
    {
     "name": "stdout",
     "output_type": "stream",
     "text": [
      "x shape (150, 4)\n",
      "y shape (150,)\n"
     ]
    }
   ],
   "source": [
    "print(\"x shape\",X.shape)\n",
    "print(\"y shape\",y.shape)"
   ]
  },
  {
   "cell_type": "code",
   "execution_count": 10,
   "metadata": {},
   "outputs": [
    {
     "data": {
      "text/plain": [
       "array([0, 1, 2])"
      ]
     },
     "execution_count": 10,
     "metadata": {},
     "output_type": "execute_result"
    }
   ],
   "source": [
    "import pandas as pd\n",
    "import numpy as np\n",
    "np.unique(y)"
   ]
  },
  {
   "cell_type": "code",
   "execution_count": 20,
   "metadata": {},
   "outputs": [],
   "source": [
    "from sklearn.cluster import KMeans\n",
    "estimators = [ #('k_means_2', KMeans(n_clusters=2)),\n",
    "              ('k_means_3', KMeans(n_clusters=3,n_init=100)),\n",
    "              ('k_means_bad_init', KMeans(n_clusters=3, n_init=1,\n",
    "                                               init='random'))]"
   ]
  },
  {
   "cell_type": "code",
   "execution_count": 27,
   "metadata": {},
   "outputs": [
    {
     "name": "stdout",
     "output_type": "stream",
     "text": [
      "k_means_3\n",
      "errors 16\n",
      "{'01': 50, '10': 48, '12': 2, '22': 36, '20': 14}\n",
      "=======\n",
      "k_means_bad_init\n",
      "errors 16\n",
      "{'01': 50, '10': 48, '12': 2, '22': 36, '20': 14}\n",
      "=======\n"
     ]
    }
   ],
   "source": [
    "for name, est in estimators:\n",
    "        ## fit data\n",
    "    print(name)\n",
    "    relation_map = {}\n",
    "    est.fit(X)\n",
    "    labels = est.labels_\n",
    "    errors = 0;\n",
    "    for i in range(len(labels)):\n",
    "        #print(y[i], labels[i])\n",
    "        if str(y[i])+str(labels[i]) not in relation_map:\n",
    "            relation_map[str(y[i])+str(labels[i])] = 0\n",
    "        relation_map[str(y[i])+str(labels[i])] +=1\n",
    "        if y[i] == 0 and labels[i] != 1:\n",
    "            errors+=1\n",
    "        elif y[i] == 1 and labels[i]!= 0:\n",
    "            errors+=1\n",
    "        elif y[i]==2 and labels[i]!=2:\n",
    "            errors +=1\n",
    "    print(\"errors\", errors)\n",
    "    print(relation_map)\n",
    "    print(\"=======\")"
   ]
  },
  {
   "cell_type": "code",
   "execution_count": 29,
   "metadata": {},
   "outputs": [
    {
     "name": "stdout",
     "output_type": "stream",
     "text": [
      "k_means_3\n",
      "errors 114\n",
      "{'00': 50, '11': 48, '12': 2, '22': 36, '21': 14}\n",
      "=======\n",
      "k_means_bad_init\n",
      "errors 103\n",
      "{'02': 50, '11': 3, '10': 47, '21': 36, '20': 14}\n",
      "=======\n"
     ]
    }
   ],
   "source": [
    "for name, est in estimators:\n",
    "        ## fit data\n",
    "    print(name)\n",
    "    relation_map = {}\n",
    "    est.fit(X)\n",
    "    labels = est.labels_\n",
    "    errors = 0;\n",
    "    for i in range(len(labels)):\n",
    "        #print(y[i], labels[i])\n",
    "        if str(y[i])+str(labels[i]) not in relation_map:\n",
    "            relation_map[str(y[i])+str(labels[i])] = 0\n",
    "        relation_map[str(y[i])+str(labels[i])] +=1\n",
    "        if y[i] == 0 and labels[i] != 1:\n",
    "            errors+=1\n",
    "        elif y[i] == 1 and labels[i]!= 0:\n",
    "            errors+=1\n",
    "        elif y[i]==2 and labels[i]!=2:\n",
    "            errors +=1\n",
    "    print(\"errors\", errors)\n",
    "    print(relation_map)\n",
    "    print(\"=======\")"
   ]
  },
  {
   "cell_type": "code",
   "execution_count": null,
   "metadata": {},
   "outputs": [],
   "source": []
  }
 ],
 "metadata": {
  "kernelspec": {
   "display_name": "Python 3",
   "language": "python",
   "name": "python3"
  },
  "language_info": {
   "codemirror_mode": {
    "name": "ipython",
    "version": 3
   },
   "file_extension": ".py",
   "mimetype": "text/x-python",
   "name": "python",
   "nbconvert_exporter": "python",
   "pygments_lexer": "ipython3",
   "version": "3.7.1"
  }
 },
 "nbformat": 4,
 "nbformat_minor": 2
}
