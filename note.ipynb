{
 "cells": [
  {
   "cell_type": "markdown",
   "metadata": {},
   "source": [
    "# NOTE"
   ]
  },
  {
   "cell_type": "markdown",
   "metadata": {},
   "source": [
    "## 「探索式資料分析」(Exploratory Data Analysis\n",
    "reference :\n",
    "https://bookdata.readthedocs.io/en/latest/base/01_pandas.html#DataFrame-%E5%85%A5%E9%97%A8\n",
    "\n",
    "* DataFrame:\n",
    "+ 常用：\n",
    "    + values,tolist(),astype(),\n",
    "    + index,columns\n",
    "    + info(),describe(),shape,size\n",
    "    + where: df['A'] = df['A'].where(df['A']>0, other=0). \n",
    "    + [cols] : cols: list()[] or slice,\n",
    "    + loc[row]: lable row location\n",
    "    + iloc[index] : index row location.\n",
    "    + (loc/ioc)[,] => 2 index by \",\". cols and row should provided.\n",
    "    + apply"
   ]
  },
  {
   "cell_type": "code",
   "execution_count": 28,
   "metadata": {},
   "outputs": [
    {
     "name": "stdout",
     "output_type": "stream",
     "text": [
      "    0   1  2\n",
      "0   1  23  1\n",
      "1   3   5  1\n",
      "2  90   2  8\n",
      "<class 'list'>\n"
     ]
    },
    {
     "data": {
      "text/plain": [
       "array([ 1, 23,  1])"
      ]
     },
     "execution_count": 28,
     "metadata": {},
     "output_type": "execute_result"
    }
   ],
   "source": [
    "import pandas as pd\n",
    "df = pd.DataFrame([[1, 23,1], [3, 5,1], [90,2,8]])\n",
    "print(df)\n",
    "df[[0,2]]\n",
    "print(type([0,3]))\n",
    "\n",
    "df.loc[0].values"
   ]
  },
  {
   "cell_type": "markdown",
   "metadata": {},
   "source": [
    "### request.\n",
    "+ res = request.get(); res.text"
   ]
  },
  {
   "cell_type": "markdown",
   "metadata": {},
   "source": [
    "## outlier\n",
    "+ series :value_counts() /sort_value()/sort_index() # this can be a way to check outlier.\n",
    "+ describe() for max, min may be another way\n",
    "+ app_train['DAYS_EMPLOYED'].replace({365243: np.nan}, inplace = True)\n",
    "+ nan will not count in hist.\n",
    "+ plt.hist(app_train[~app_train.OWN_CAR_AGE.isnull()]['OWN_CAR_AGE'])\n",
    "+ dtype for type check.\n",
    "+ quantile_5s = [np.percentile(app_train[~app_train['AMT_ANNUITY'].isnull()]['AMT_ANNUITY'], q = i) for i in five_num] \n",
    "    + np.percentile \n",
    "    + Q5\n",
    "+ Emprical Cumulative Density Plot, ECDF, ECDF with Python\n",
    "    + 對比normal distribution\n",
    "    + 某些區段特別多，特別少 可能異常\n",
    "    + 比 hist有意義， hist沒有排名訊息\n",
    "    \n"
   ]
  },
  {
   "cell_type": "markdown",
   "metadata": {},
   "source": [
    "## 連續值標準化\n",
    "- 1. Z-transform: $ \\frac{(x - mean(x))}{std(x)} $\n",
    "- 2. Range (0 ~ 1): $ \\frac{x - min(x)}{max(x) - min(x)} $\n",
    "- 3. Range (-1 ~ 1): $ (\\frac{x - min(x)}{max(x) - min(x)} - 0.5) * 2 $"
   ]
  },
  {
   "cell_type": "markdown",
   "metadata": {},
   "source": [
    "## misc\n",
    "+ apply is for col?"
   ]
  },
  {
   "cell_type": "markdown",
   "metadata": {},
   "source": [
    "# 常用的 DataFrame 操作\n",
    "* merge / transform\n",
    "    + pd.concat([df1, df4], axis = 1)\n",
    "    + result = pd.concat([df1, df4], axis = 1, join = 'inner') # 硬串接 inner 重複部分串列\n",
    "    + pd.merge(df1, df4, how='inner') # 考慮index？\n",
    "    \n",
    "* subset\n",
    "* groupby\n",
    "    + app_train.groupby(['NAME_CONTRACT_TYPE'])['AMT_INCOME_TOTAL'].describe()\n",
    "    + pd.cut\n",
    "    + pp_train.boxplot(column=plt_column, by = plt_by, showfliers = False, figsize=(12,12))"
   ]
  },
  {
   "cell_type": "markdown",
   "metadata": {},
   "source": [
    "# correcoef\n",
    "    np.corrcoef(x, y)"
   ]
  },
  {
   "cell_type": "code",
   "execution_count": null,
   "metadata": {},
   "outputs": [],
   "source": []
  }
 ],
 "metadata": {
  "kernelspec": {
   "display_name": "Python 3",
   "language": "python",
   "name": "python3"
  },
  "language_info": {
   "codemirror_mode": {
    "name": "ipython",
    "version": 3
   },
   "file_extension": ".py",
   "mimetype": "text/x-python",
   "name": "python",
   "nbconvert_exporter": "python",
   "pygments_lexer": "ipython3",
   "version": "3.7.1"
  }
 },
 "nbformat": 4,
 "nbformat_minor": 2
}
