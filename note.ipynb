{
 "cells": [
  {
   "cell_type": "markdown",
   "metadata": {},
   "source": [
    "# NOTE"
   ]
  },
  {
   "cell_type": "markdown",
   "metadata": {},
   "source": [
    "## 「探索式資料分析」(Exploratory Data Analysis\n",
    "reference :\n",
    "https://bookdata.readthedocs.io/en/latest/base/01_pandas.html#DataFrame-%E5%85%A5%E9%97%A8\n",
    "\n",
    "* DataFrame:\n",
    "+ 常用：\n",
    "    + values,tolist(),astype(),\n",
    "    + index,columns\n",
    "    + info(),describe(),shape,size\n",
    "    + where: df['A'] = df['A'].where(df['A']>0, other=0). \n",
    "    + [cols] : cols: list()[] or slice,\n",
    "    + loc[row]: lable row location\n",
    "    + iloc[index] : index row location.\n",
    "    + (loc/ioc)[,] => 2 index by \",\". cols and row should provided.\n",
    "    + apply"
   ]
  },
  {
   "cell_type": "code",
   "execution_count": 1,
   "metadata": {},
   "outputs": [
    {
     "name": "stdout",
     "output_type": "stream",
     "text": [
      "    0   1  2\n",
      "0   1  23  1\n",
      "1   3   5  1\n",
      "2  90   2  8\n",
      "    0  2\n",
      "0   1  1\n",
      "1   3  1\n",
      "2  90  8\n",
      "<class 'list'>\n"
     ]
    },
    {
     "data": {
      "text/plain": [
       "array([ 1, 23,  1])"
      ]
     },
     "execution_count": 1,
     "metadata": {},
     "output_type": "execute_result"
    }
   ],
   "source": [
    "import pandas as pd\n",
    "df = pd.DataFrame([[1, 23,1], [3, 5,1], [90,2,8]])\n",
    "print(df)\n",
    "print(df[[0,2]])\n",
    "print(type([0,3]))\n",
    "\n",
    "df.loc[0].values"
   ]
  },
  {
   "cell_type": "markdown",
   "metadata": {},
   "source": [
    "### request.\n",
    "+ res = request.get(); res.text"
   ]
  },
  {
   "cell_type": "markdown",
   "metadata": {},
   "source": [
    "## outlier\n",
    "+ series :value_counts() /sort_value()/sort_index() # this can be a way to check outlier.\n",
    "+ describe() for max, min may be another way\n",
    "+ app_train['DAYS_EMPLOYED'].replace({365243: np.nan}, inplace = True)\n",
    "+ nan will not count in hist.\n",
    "+ plt.hist(app_train[~app_train.OWN_CAR_AGE.isnull()]['OWN_CAR_AGE'])\n",
    "+ dtype for type check.\n",
    "+ quantile_5s = [np.percentile(app_train[~app_train['AMT_ANNUITY'].isnull()]['AMT_ANNUITY'], q = i) for i in five_num] \n",
    "    + np.percentile \n",
    "    + Q5\n",
    "+ Emprical Cumulative Density Plot, ECDF, ECDF with Python\n",
    "    + 對比normal distribution\n",
    "    + 某些區段特別多，特別少 可能異常\n",
    "    + 比 hist有意義， hist沒有排名訊息\n",
    "    \n"
   ]
  },
  {
   "cell_type": "markdown",
   "metadata": {},
   "source": [
    "## 連續值標準化\n",
    "- 1. Z-transform: $ \\frac{(x - mean(x))}{std(x)} $\n",
    "- 2. Range (0 ~ 1): $ \\frac{x - min(x)}{max(x) - min(x)} $\n",
    "- 3. Range (-1 ~ 1): $ (\\frac{x - min(x)}{max(x) - min(x)} - 0.5) * 2 $"
   ]
  },
  {
   "cell_type": "markdown",
   "metadata": {},
   "source": [
    "## misc\n",
    "+ apply is for col?"
   ]
  },
  {
   "cell_type": "markdown",
   "metadata": {},
   "source": [
    "# 常用的 DataFrame 操作\n",
    "* merge / transform\n",
    "    + pd.concat([df1, df4], axis = 1)\n",
    "    + result = pd.concat([df1, df4], axis = 1, join = 'inner') # 硬串接 inner 重複部分串列\n",
    "    + pd.merge(df1, df4, how='inner') # 考慮index？\n",
    "    \n",
    "* subset\n",
    "* groupby\n",
    "    + app_train.groupby(['NAME_CONTRACT_TYPE'])['AMT_INCOME_TOTAL'].describe()\n",
    "    + pd.cut\n",
    "    + pp_train.boxplot(column=plt_column, by = plt_by, showfliers = False, figsize=(12,12))"
   ]
  },
  {
   "cell_type": "markdown",
   "metadata": {},
   "source": [
    "# seaborn/matplot\n",
    "+ Heatmap\n",
    "+ PairPlot\n",
    "+ joinplot\n",
    "+ subplot\n",
    "    + grid\n",
    "+ distplot:kde\n",
    "+ sns.regplot(x = df['GrLivArea'], y=train_Y)"
   ]
  },
  {
   "cell_type": "markdown",
   "metadata": {},
   "source": [
    "# correcoef\n",
    "    np.corrcoef(x, y)"
   ]
  },
  {
   "cell_type": "markdown",
   "metadata": {},
   "source": [
    "# 特徵工程 特徵⼯工程是事實對應到後續評估分數的轉換\n",
    "* drop,concat:\n",
    "    + target\n",
    "    + id\n",
    "    + concat test and train. ( 因為資料需要一樣的轉化處理)\n",
    "* na:\n",
    "    + fillna(-1)\n",
    "    + fillna('None')\n",
    "    + df.fillna(df.mean())/median : 偏態不明顯/偏態很明顯\n",
    "    + fillna(0)\n",
    "    + mode:  類別型欄欄位\n",
    "    + 填補預測值\n",
    "* decide by watch types:\n",
    " * dtype_df = dtype_df.groupby(\"Column_Type\").aggregate('count').reset_index()\n",
    " * np.log1p/expm1\n",
    " \n",
    "*  標準化\n",
    "    + 標準化 : 常態分佈， 不易受到極端值影響\n",
    "    + 最小最大化 :均勻分佈 易受到極端值影響\n",
    "    + 非樹狀狀模型會有影響  樹狀模型 不會有影響 \n",
    "\n",
    "+  離群值 - 數幾筆資料跟其他數值差異很⼤大，標準化無法處理理原始值 \n",
    "    + 捨棄離群\n",
    "    + 調整離群值\n",
    "+ 偏態 - 定義\n",
    "    + expm1/log1p\n",
    "    + ⽅根去偏(sqrt) \n",
    "    + 分布去偏(boxcox)\n",
    "+ 類別型特徵有\n",
    "    * from sklearn.preprocessing import LabelEncoder, MinMaxScaler #使用不同的標準化方式 ( 原值 / 最小最大化 / 標準化 \n",
    "        + dtype == 'object' : do le/on hot\n",
    "        + value : do scale/normailzation.\n",
    "        + fit_transform\n",
    "    + Label Encoding : 無數字意義 快又小 樹狀模型\n",
    "        + for c in df.columns:df_temp[c] = LabelEncoder().fit_transform(df[c])\n",
    "    + One Hot Encoding 有數字意義 慢又多 非樹狀狀模型\n",
    "        + df_temp = pd.get_dummies(df)\n",
    "    \n"
   ]
  },
  {
   "cell_type": "markdown",
   "metadata": {},
   "source": [
    "# model:\n",
    "+ get train | test x \n",
    "\n",
    "train_num = train_Y.shape[0]\n",
    "train_X = df[:train_num]\n",
    "test_X = df[train_num:]\n",
    "\n",
    "+ from sklearn.linear_model import LogisticRegression \\ LinearRegression | GradientBoostingRegressor\n",
    "    + estimator = LogisticRegression() | LinearRegression\n",
    "    + estimator.fit(train_X, train_Y)\n",
    "    + pred = estimator.predict(test_X)\n",
    "+ evaluate:\n",
    "    + cross_val_score(estimator, train_X, train_Y, cv=5).mean()\n",
    "        + from sklearn.model_selection import cross_val_score\n",
    "    + estimator.score"
   ]
  },
  {
   "cell_type": "code",
   "execution_count": null,
   "metadata": {},
   "outputs": [],
   "source": []
  }
 ],
 "metadata": {
  "kernelspec": {
   "display_name": "Python 3",
   "language": "python",
   "name": "python3"
  },
  "language_info": {
   "codemirror_mode": {
    "name": "ipython",
    "version": 3
   },
   "file_extension": ".py",
   "mimetype": "text/x-python",
   "name": "python",
   "nbconvert_exporter": "python",
   "pygments_lexer": "ipython3",
   "version": "3.7.1"
  }
 },
 "nbformat": 4,
 "nbformat_minor": 2
}
