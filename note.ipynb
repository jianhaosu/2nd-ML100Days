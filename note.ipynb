{
 "cells": [
  {
   "cell_type": "markdown",
   "metadata": {},
   "source": [
    "# NOTE"
   ]
  },
  {
   "cell_type": "markdown",
   "metadata": {},
   "source": [
    "## 「探索式資料分析」(Exploratory Data Analysis\n",
    "reference :\n",
    "https://bookdata.readthedocs.io/en/latest/base/01_pandas.html#DataFrame-%E5%85%A5%E9%97%A8\n",
    "\n",
    "* DataFrame:\n",
    "+ 常用：\n",
    "    + values(),tolist(),astype(),\n",
    "    + index,columns\n",
    "    + info(),describe(),shape,size\n",
    "    + where: df['A'] = df['A'].where(df['A']>0, other=0). \n",
    "    + [cols] : cols: list()[] or slice,\n",
    "    + loc[row]: lable row location\n",
    "    + iloc[index] : index row location.\n",
    "    + (loc/ioc)[,] => 2 index by \",\". cols and row should provided."
   ]
  },
  {
   "cell_type": "code",
   "execution_count": 28,
   "metadata": {},
   "outputs": [
    {
     "name": "stdout",
     "output_type": "stream",
     "text": [
      "    0   1  2\n",
      "0   1  23  1\n",
      "1   3   5  1\n",
      "2  90   2  8\n",
      "<class 'list'>\n"
     ]
    },
    {
     "data": {
      "text/plain": [
       "array([ 1, 23,  1])"
      ]
     },
     "execution_count": 28,
     "metadata": {},
     "output_type": "execute_result"
    }
   ],
   "source": [
    "import pandas as pd\n",
    "df = pd.DataFrame([[1, 23,1], [3, 5,1], [90,2,8]])\n",
    "print(df)\n",
    "df[[0,2]]\n",
    "print(type([0,3]))\n",
    "\n",
    "df.loc[0].values"
   ]
  },
  {
   "cell_type": "markdown",
   "metadata": {},
   "source": [
    "### request.\n",
    "+ res = request.get(); res.text"
   ]
  },
  {
   "cell_type": "code",
   "execution_count": null,
   "metadata": {},
   "outputs": [],
   "source": []
  }
 ],
 "metadata": {
  "kernelspec": {
   "display_name": "Python 3",
   "language": "python",
   "name": "python3"
  },
  "language_info": {
   "codemirror_mode": {
    "name": "ipython",
    "version": 3
   },
   "file_extension": ".py",
   "mimetype": "text/x-python",
   "name": "python",
   "nbconvert_exporter": "python",
   "pygments_lexer": "ipython3",
   "version": "3.7.1"
  }
 },
 "nbformat": 4,
 "nbformat_minor": 2
}
